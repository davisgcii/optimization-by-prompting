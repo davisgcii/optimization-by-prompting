{
 "cells": [
  {
   "cell_type": "code",
   "execution_count": 139,
   "metadata": {},
   "outputs": [
    {
     "data": {
      "text/plain": [
       "True"
      ]
     },
     "execution_count": 139,
     "metadata": {},
     "output_type": "execute_result"
    }
   ],
   "source": [
    "import os\n",
    "import openai\n",
    "import math, random\n",
    "import matplotlib.pyplot as plt\n",
    "from dotenv import load_dotenv\n",
    "from dataclasses import dataclass\n",
    "\n",
    "load_dotenv()"
   ]
  },
  {
   "cell_type": "code",
   "execution_count": 140,
   "metadata": {},
   "outputs": [],
   "source": [
    "# let's create some classes that make managing prompts easier\n",
    "@dataclass\n",
    "class Solution:\n",
    "    solution_name: str  # the name of the solution, e.g. \"trace\"\n",
    "    solution_text: str  # the text solution to a problem\n",
    "    value_name: str  # the name of the value used to measure the solution, e.g. \"length\" or \"score\"\n",
    "    value: int  # the value of the solution, e.g. 5 or 10\n",
    "\n",
    "\n",
    "class MathPrompt:\n",
    "    def __init__(\n",
    "        self,\n",
    "        problem: str,  # text description of the problem to be solved\n",
    "        instruction: str,  # instructions on what type of solution to provide and in what format\n",
    "        solution_description: str,  # a description of the solutions and how they are ordered (e.g., \"arranged in descending order based on their lengths, where lower values are better\")\n",
    "        solution_count: int = 5,  # the maximum number of solutions to include in the prompt string\n",
    "        sort_ascending: bool = True,  # whether the solutions are sorted in ascending or descending order\n",
    "    ):\n",
    "        self.problem = problem\n",
    "        self.solution_description = solution_description\n",
    "        self.solutions = []\n",
    "        self.instruction = instruction\n",
    "        self.prompt_string = \"\"\n",
    "        self.solution_count = solution_count\n",
    "        self.sort_ascending = sort_ascending\n",
    "        self.ordered_values = [] # the values of the solutions in the order they are determined by the model\n",
    "\n",
    "    def update_prompt_string(self):\n",
    "        \"\"\"\n",
    "        Creates a string representation of the prompt that can be used to display the prompt to the user or provide it to a language model.\n",
    "        \"\"\"\n",
    "        solutions_string = \"\\n\\n\".join(\n",
    "            f\"{solution.solution_name}: {solution.solution_text}\\n{solution.value_name}: {solution.value}\"\n",
    "            for solution in self.solutions\n",
    "        )\n",
    "\n",
    "        # only include the last solution_count solutions\n",
    "        solutions_string = \"\\n\\n\".join(\n",
    "            solutions_string.split(\"\\n\\n\")[-self.solution_count:]\n",
    "        )\n",
    "\n",
    "        self.prompt_string = f\"{self.problem}\\n\\n{self.solution_description}\\n\\n{solutions_string}\\n\\n{self.instruction}\"\n",
    "\n",
    "    def add_solution(self, solution: Solution):\n",
    "        \"\"\"\n",
    "        Adds a solution to the list of solutions, sorts the list by value in ascending order, and updates the prompt string.\n",
    "        \"\"\"\n",
    "        self.solutions.append(solution)\n",
    "\n",
    "        self.ordered_values.append(solution.value)\n",
    "\n",
    "        # sort the solutions by value in ascending order\n",
    "        self.solutions.sort(key=lambda solution: solution.value, reverse=not self.sort_ascending)\n",
    "\n",
    "        self.update_prompt_string()\n",
    "\n",
    "    def __repr__(self):\n",
    "        return self.prompt_string\n"
   ]
  },
  {
   "cell_type": "code",
   "execution_count": 141,
   "metadata": {},
   "outputs": [
    {
     "name": "stdout",
     "output_type": "stream",
     "text": [
      "You are given a list of points with coordinates below: (0): (-4, 5), (1): (17, 76), (2): (-9, 0), (3): (-31, -86), (4): (53, -35), (5): (26, 91), (6): (65, -33), (7): (26, 86), (8): (-13, -70), (9): (13, 79), (10): (-73, -86), (11): (-45, 93), (12): (74, 24), (13): (67, -42), (14): (87, 51), (15): (83, 94), (16): (-7, 52), (17): (-89, 47), (18): (0, -38), (19): (61, 58).\n",
      "\n",
      "Below are some previous traces and their lengths. The traces are arranged in descending order based on their lengths, where lower values are better.\n",
      "\n",
      "trace: <trace> 0,4,18,11,9,7,14,17,12,5,10,15,19,3,13,16,1,6,8,2 </trace>\n",
      "length: 2017\n",
      "\n",
      "trace: <trace> 2,18,11,4,9,7,14,12,17,15,5,10,19,3,13,16,1,6,8,0 </trace>\n",
      "length: 2017\n",
      "\n",
      "trace: <trace> 9,11,4,13,6,10,8,17,12,15,3,5,19,2,1,18,14,7,16,0 </trace>\n",
      "length: 1953\n",
      "\n",
      "trace: <trace> 11,0,4,13,6,10,8,17,12,3,15,5,19,2,1,18,14,7,16,9 </trace>\n",
      "length: 1953\n",
      "\n",
      "Give me a new trace that is different from all traces above, and has a length lower than any of the above. The trace should traverse all points exactly once. The trace should start with <trace> and end with </trace>.\n",
      "\n",
      "\n",
      "There are actually 5 solutions in the problem's structure.\n"
     ]
    }
   ],
   "source": [
    "# ok, let's test out the class with an example from Figure 18 the paper\n",
    "problem = \"You are given a list of points with coordinates below: (0): (-4, 5), (1): (17, 76), (2): (-9, 0), (3): (-31, -86), (4): (53, -35), (5): (26, 91), (6): (65, -33), (7): (26, 86), (8): (-13, -70), (9): (13, 79), (10): (-73, -86), (11): (-45, 93), (12): (74, 24), (13): (67, -42), (14): (87, 51), (15): (83, 94), (16): (-7, 52), (17): (-89, 47), (18): (0, -38), (19): (61, 58).\"\n",
    "solution_description = \"Below are some previous traces and their lengths. The traces are arranged in descending order based on their lengths, where lower values are better.\"\n",
    "instruction = \"Give me a new trace that is different from all traces above, and has a length lower than any of the above. The trace should traverse all points exactly once. The trace should start with <trace> and end with </trace>.\"\n",
    "\n",
    "solutions = []\n",
    "solutions.append(Solution(\n",
    "    \"trace\",\n",
    "    \"<trace> 0,13,3,16,19,2,17,5,4,7,18,8,1,9,6,14,11,15,10,12 </trace>\",\n",
    "    \"length\",\n",
    "    2254,\n",
    "))\n",
    "solutions.append(Solution(\n",
    "    \"trace\",\n",
    "    \"<trace> 0,4,18,11,9,7,14,17,12,5,10,15,19,3,13,16,1,6,8,2 </trace>\",\n",
    "    \"length\",\n",
    "    2017,\n",
    "))\n",
    "solutions.append(Solution(\n",
    "    \"trace\",\n",
    "    \"<trace> 9,11,4,13,6,10,8,17,12,15,3,5,19,2,1,18,14,7,16,0 </trace>\",\n",
    "    \"length\",\n",
    "    1953,\n",
    "))\n",
    "solutions.append(Solution(\n",
    "    \"trace\",\n",
    "    \"<trace> 2,18,11,4,9,7,14,12,17,15,5,10,19,3,13,16,1,6,8,0 </trace>\",\n",
    "    \"length\",\n",
    "    2017,\n",
    "))\n",
    "solutions.append(Solution(\n",
    "    \"trace\",\n",
    "    \"<trace> 11,0,4,13,6,10,8,17,12,3,15,5,19,2,1,18,14,7,16,9 </trace>\",\n",
    "    \"length\",\n",
    "    1953,\n",
    "))\n",
    "\n",
    "test_problem = MathPrompt(problem, instruction, solution_description, solution_count=4, sort_ascending=False)\n",
    "\n",
    "for solution in solutions:\n",
    "    test_problem.add_solution(solution)\n",
    "\n",
    "print(test_problem) # should only show two solutions in the prompt\n",
    "\n",
    "print(f\"\\n\\nThere are actually {len(test_problem.solutions)} solutions in the problem's structure.\")"
   ]
  },
  {
   "cell_type": "code",
   "execution_count": 142,
   "metadata": {},
   "outputs": [],
   "source": [
    "# ok, that matches the example from the paper pretty well. now we need a quick utility function to calculate the total distance covered in a trace\n",
    "points = [\n",
    "        (-4, 5),\n",
    "        (17, 76),\n",
    "        (-9, 0),\n",
    "        (-31, -86),\n",
    "        (53, -35),\n",
    "        (26, 91),\n",
    "        (65, -33),\n",
    "        (26, 86),\n",
    "        (-13, -70),\n",
    "        (13, 79),\n",
    "        (-73, -86),\n",
    "        (-45, 93),\n",
    "        (74, 24),\n",
    "        (67, -42),\n",
    "        (87, 51),\n",
    "        (83, 94),\n",
    "        (-7, 52),\n",
    "        (-89, 47),\n",
    "        (0, -38),\n",
    "        (61, 58),\n",
    "    ]\n",
    "\n",
    "def calculate_trace_length(points: list, trace: str):\n",
    "    \"\"\"\n",
    "    Calculates the total distance covered in a trace. Assumes that the trace is a string of comma-separated integers, where each integer represents a point.\n",
    "    \"\"\"\n",
    "    # remove <trace> and </trace> tags in case they were provided, and remove any leading / trailing whitespace\n",
    "    trace = trace.replace(\"<trace>\", \"\").replace(\"</trace>\", \"\").strip()\n",
    "\n",
    "    # if the trace consists of anything other than comma-separated integers, return inf and let the user know that the trace is invalid\n",
    "    if not all(char.isdigit() or char == \",\" for char in trace):\n",
    "        print(\"The trace should consist of comma-separated integers.\")\n",
    "        return math.inf\n",
    "\n",
    "    # if the wrong number of points were chosen, return inf and let the user know that the trace is invalid\n",
    "    if len(trace.split(\",\")) != len(points):\n",
    "        print(f\"Expected {len(points)} points in the trace, but {len(trace.split(','))} were found.\")\n",
    "        return math.inf\n",
    "    \n",
    "    # if any points were missed, return inf and let the user know that the trace is invalid\n",
    "    for i in range(len(points)):\n",
    "        if str(i) not in trace:\n",
    "            print(f\"Point {i} was not visited in the trace.\")\n",
    "            return math.inf\n",
    "\n",
    "    chosen_points = [points[int(point)] for point in trace.split(\",\")]\n",
    "    \n",
    "    total_distance = 0\n",
    "\n",
    "    for i in range(len(chosen_points) - 1):\n",
    "        total_distance += math.dist(chosen_points[i], chosen_points[i + 1])\n",
    "\n",
    "    # round to the nearest integer\n",
    "    return round(total_distance)\n",
    "\n",
    "# let's make another utility function that generates some random solutions\n",
    "def generate_random_solutions(points: list, num_solutions: int = 5):\n",
    "    solutions = []\n",
    "\n",
    "    for i in range(num_solutions): \n",
    "        random_ordering = list(range(len(points)))  # convert range to list\n",
    "        random.shuffle(random_ordering)  # shuffle the list in-place\n",
    "        trace = f\"<trace> {','.join(map(str, random_ordering))} </trace>\"  # convert integers to strings before joining\n",
    "        solutions.append(Solution(\"trace\", trace, \"length\", calculate_trace_length(points, trace)))\n",
    "\n",
    "    return solutions"
   ]
  },
  {
   "cell_type": "code",
   "execution_count": 143,
   "metadata": {},
   "outputs": [
    {
     "name": "stdout",
     "output_type": "stream",
     "text": [
      "2174\n",
      "2010\n",
      "\n",
      "Random solutions:\n",
      "Solution(solution_name='trace', solution_text='<trace> 16,7,13,17,6,15,9,2,12,0,4,5,11,8,19,3,18,14,10,1 </trace>', value_name='length', value=2315)\n",
      "Solution(solution_name='trace', solution_text='<trace> 18,12,7,3,14,4,6,16,17,1,5,9,19,0,2,8,15,13,10,11 </trace>', value_name='length', value=1849)\n",
      "Solution(solution_name='trace', solution_text='<trace> 9,12,2,7,13,3,14,10,1,15,19,0,18,8,5,16,17,11,4,6 </trace>', value_name='length', value=1888)\n",
      "Solution(solution_name='trace', solution_text='<trace> 17,1,9,16,19,2,8,18,5,7,3,4,11,12,15,0,10,6,14,13 </trace>', value_name='length', value=1766)\n",
      "Solution(solution_name='trace', solution_text='<trace> 14,11,9,3,7,18,8,2,5,15,19,6,12,0,13,16,1,10,17,4 </trace>', value_name='length', value=1929)\n"
     ]
    }
   ],
   "source": [
    "# let's make sure this works\n",
    "print(calculate_trace_length(points, \"<trace> 0,13,3,16,19,2,17,5,4,7,18,8,1,9,6,14,11,15,10,12 </trace>\")) # should be 2254\n",
    "print(calculate_trace_length(points, \"<trace> 0,18,4,11,9,7,14,17,12,15,10,5,19,3,13,16,1,6,8,2 </trace>\")) # should be 2017\n",
    "\n",
    "# and let's print some random solutions\n",
    "print(f\"\\nRandom solutions:\")\n",
    "for solution in generate_random_solutions(points):\n",
    "    print(solution)"
   ]
  },
  {
   "cell_type": "code",
   "execution_count": 144,
   "metadata": {},
   "outputs": [],
   "source": [
    "# ok, those were close enough; now let's start working on feeding the problems to a model\n",
    "load_dotenv()\n",
    "openai.api_key = os.getenv(\"OPENAI_API_KEY\")\n",
    "\n",
    "def get_new_trace(prompt: str):\n",
    "  completion = openai.ChatCompletion.create(\n",
    "    model=\"gpt-3.5-turbo\",\n",
    "    messages=[\n",
    "      {\"role\": \"system\", \"content\": \"You are a helpful assistant who helps users solve math problems You respond ONLY with the answer in the format the user directs.\"},\n",
    "      {\"role\": \"user\", \"content\": prompt},\n",
    "    ]\n",
    "  )\n",
    "\n",
    "  return completion.choices[0].message.content\n",
    "\n"
   ]
  },
  {
   "cell_type": "code",
   "execution_count": 145,
   "metadata": {},
   "outputs": [
    {
     "data": {
      "text/plain": [
       "'<trace> 15, 12, 5, 3, 19, 16, 0, 4, 13, 6, 10, 8, 17, 11, 9, 7, 14, 18, 1, 2 </trace>'"
      ]
     },
     "execution_count": 145,
     "metadata": {},
     "output_type": "execute_result"
    }
   ],
   "source": [
    "# let's test it out!\n",
    "get_new_trace(test_problem.prompt_string)"
   ]
  },
  {
   "cell_type": "code",
   "execution_count": 146,
   "metadata": {},
   "outputs": [
    {
     "name": "stdout",
     "output_type": "stream",
     "text": [
      "You are given a list of points with coordinates below: (0): (-4, 5), (1): (17, 76), (2): (-9, 0), (3): (-31, -86), (4): (53, -35), (5): (26, 91), (6): (65, -33), (7): (26, 86), (8): (-13, -70), (9): (13, 79), (10): (-73, -86), (11): (-45, 93), (12): (74, 24), (13): (67, -42), (14): (87, 51), (15): (83, 94), (16): (-7, 52), (17): (-89, 47), (18): (0, -38), (19): (61, 58).\n",
      "\n",
      "Below are some previous traces and their lengths. The traces are arranged in descending order based on their lengths, where lower values are better.\n",
      "\n",
      "trace: <trace> 10,3,18,15,16,14,11,6,5,2,7,1,0,17,8,12,19,13,4,9 </trace>\n",
      "length: 1797\n",
      "\n",
      "trace: <trace> 16,14,5,15,11,8,4,1,17,7,0,2,3,10,9,18,13,6,12,19 </trace>\n",
      "length: 1639\n",
      "\n",
      "trace: <trace> 8,18,0,17,2,4,16,11,5,7,15,10,3,13,12,1,9,14,6,19 </trace>\n",
      "length: 1425\n",
      "\n",
      "Give me a new trace that is different from all traces above, and has a length lower than any of the above. The trace should traverse all points exactly once. The trace should start with <trace> and end with </trace>.\n"
     ]
    }
   ],
   "source": [
    "# now let's put it all together and try to get 3.5-turbo to solve the problem!\n",
    "starting_solutions = generate_random_solutions(points, num_solutions=3)\n",
    "problem = MathPrompt(problem, instruction, solution_description, solution_count=10, sort_ascending=False)\n",
    "\n",
    "for solution in starting_solutions:\n",
    "    problem.add_solution(solution)\n",
    "\n",
    "print(problem)\n",
    "\n"
   ]
  },
  {
   "cell_type": "code",
   "execution_count": 147,
   "metadata": {},
   "outputs": [],
   "source": [
    "def solve_traveling_salesman(problem: MathPrompt, max_iters: int = 20, batch_size: int = 4):\n",
    "    \"\"\"\n",
    "    Solves a traveling salesman problem using GPT-3.5-turbo.\n",
    "\n",
    "    Args:\n",
    "    - problem: a MathPrompt object\n",
    "    - max_iters: the maximum number of iterations to run\n",
    "    - batch_size: the number of solutions to generate per iteration\n",
    "    \"\"\"\n",
    "    no_improvement_counter = 0\n",
    "    failure_counter = 0\n",
    "    api_count = 0\n",
    "    for i in range(max_iters):\n",
    "        solutions = []\n",
    "        for j in range(batch_size):\n",
    "            new_trace = get_new_trace(problem.prompt_string)\n",
    "            new_length = calculate_trace_length(points, new_trace)\n",
    "\n",
    "            if problem.sort_ascending:\n",
    "                if new_length < problem.solutions[0].value:\n",
    "                    no_improvement_counter += 1\n",
    "            else:\n",
    "                if new_length > problem.solutions[0].value:\n",
    "                    no_improvement_counter += 1\n",
    "            api_count += 1\n",
    "\n",
    "            # if inf or -inf, then count a failure\n",
    "            if new_length == math.inf or new_length == -math.inf:\n",
    "                failure_counter += 1\n",
    "            else:\n",
    "                solutions.append(Solution(\"trace\", new_trace, \"length\", new_length))\n",
    "\n",
    "        for solution in solutions: # add all solutions from a batch at once\n",
    "            problem.add_solution(solution)\n",
    "\n",
    "        if no_improvement_counter > max_iters * batch_size / 3:\n",
    "            print(f\"Stopping early after {i} iterations without improvement.\")\n",
    "            print(f\"There were {failure_counter} failures out of {api_count} API calls.\")\n",
    "            break\n",
    "\n",
    "    print(f\"There were {failure_counter} failures out of {api_count} API calls.\")\n",
    "    return problem\n"
   ]
  },
  {
   "cell_type": "code",
   "execution_count": 148,
   "metadata": {},
   "outputs": [
    {
     "name": "stdout",
     "output_type": "stream",
     "text": [
      "The trace should consist of comma-separated integers.\n",
      "Expected 20 points in the trace, but 21 were found.\n",
      "The trace should consist of comma-separated integers.\n",
      "The trace should consist of comma-separated integers.\n",
      "The trace should consist of comma-separated integers.\n",
      "Point 16 was not visited in the trace.\n",
      "The trace should consist of comma-separated integers.\n",
      "The trace should consist of comma-separated integers.\n",
      "The trace should consist of comma-separated integers.\n",
      "Expected 20 points in the trace, but 21 were found.\n",
      "The trace should consist of comma-separated integers.\n",
      "Expected 20 points in the trace, but 21 were found.\n",
      "Expected 20 points in the trace, but 21 were found.\n",
      "Expected 20 points in the trace, but 40 were found.\n",
      "Expected 20 points in the trace, but 21 were found.\n",
      "Expected 20 points in the trace, but 21 were found.\n",
      "Expected 20 points in the trace, but 34 were found.\n",
      "Expected 20 points in the trace, but 21 were found.\n",
      "Expected 20 points in the trace, but 21 were found.\n",
      "Expected 20 points in the trace, but 39 were found.\n",
      "There were 20 failures out of 80 API calls.\n"
     ]
    },
    {
     "data": {
      "text/plain": [
       "You are given a list of points with coordinates below: (0): (-4, 5), (1): (17, 76), (2): (-9, 0), (3): (-31, -86), (4): (53, -35), (5): (26, 91), (6): (65, -33), (7): (26, 86), (8): (-13, -70), (9): (13, 79), (10): (-73, -86), (11): (-45, 93), (12): (74, 24), (13): (67, -42), (14): (87, 51), (15): (83, 94), (16): (-7, 52), (17): (-89, 47), (18): (0, -38), (19): (61, 58).\n",
       "\n",
       "Below are some previous traces and their lengths. The traces are arranged in descending order based on their lengths, where lower values are better.\n",
       "\n",
       "trace: <trace> 8,18,0,17,2,4,16,11,5,7,15,10,3,13,6,12,1,9,14,19 </trace>\n",
       "length: 1274\n",
       "\n",
       "trace: <trace> 8,18,0,17,2,4,16,11,5,7,15,10,3,13,6,12,1,9,14,19 </trace>\n",
       "length: 1274\n",
       "\n",
       "trace: <trace> 8,18,0,17,2,4,16,11,5,7,15,10,3,13,6,12,19,9,1,14 </trace>\n",
       "length: 1254\n",
       "\n",
       "trace: <trace> 8,18,0,17,2,4,16,11,5,7,15,10,3,13,6,12,19,9,1,14 </trace>\n",
       "length: 1254\n",
       "\n",
       "trace: <trace> 8,18,0,17,2,4,16,11,5,7,15,10,3,13,6,12,1,9,19,14 </trace>\n",
       "length: 1248\n",
       "\n",
       "trace: <trace> 8,18,0,17,2,4,16,11,5,7,15,10,3,13,6,12,19,14,9,1 </trace>\n",
       "length: 1234\n",
       "\n",
       "trace: <trace> 8,18,0,17,2,4,16,11,5,7,15,10,3,13,6,12,19,14,9,1 </trace>\n",
       "length: 1234\n",
       "\n",
       "trace: <trace> 8,18,0,17,2,4,16,11,5,7,15,10,3,13,6,12,19,14,9,1 </trace>\n",
       "length: 1234\n",
       "\n",
       "trace: <trace> 8,18,0,17,2,4,16,11,5,7,15,10,3,13,6,12,19,14,9,1 </trace>\n",
       "length: 1234\n",
       "\n",
       "trace: <trace> 8,18,0,2,4,16,11,5,7,15,10,3,13,6,12,19,14,9,1,17 </trace>\n",
       "length: 1163\n",
       "\n",
       "Give me a new trace that is different from all traces above, and has a length lower than any of the above. The trace should traverse all points exactly once. The trace should start with <trace> and end with </trace>."
      ]
     },
     "execution_count": 148,
     "metadata": {},
     "output_type": "execute_result"
    }
   ],
   "source": [
    "solve_traveling_salesman(problem, max_iters=20)\n"
   ]
  },
  {
   "cell_type": "code",
   "execution_count": 149,
   "metadata": {},
   "outputs": [
    {
     "data": {
      "image/png": "[encoded data removed]",
      "text/plain": [
       "<Figure size 640x480 with 1 Axes>"
      ]
     },
     "metadata": {},
     "output_type": "display_data"
    }
   ],
   "source": [
    "# now let's plot the results; if the model is able to optimize, we would expect that problem.ordered_values trends downward\n",
    "# if it can't, the results should be random\n",
    "plt.plot(problem.ordered_values)\n",
    "plt.ylabel('Total distance')\n",
    "plt.xlabel('Solution number')\n",
    "plt.show()"
   ]
  },
  {
   "cell_type": "code",
   "execution_count": null,
   "metadata": {},
   "outputs": [],
   "source": []
  }
 ],
 "metadata": {
  "kernelspec": {
   "display_name": "venv",
   "language": "python",
   "name": "python3"
  },
  "language_info": {
   "codemirror_mode": {
    "name": "ipython",
    "version": 3
   },
   "file_extension": ".py",
   "mimetype": "text/x-python",
   "name": "python",
   "nbconvert_exporter": "python",
   "pygments_lexer": "ipython3",
   "version": "3.11.2"
  },
  "orig_nbformat": 4
 },
 "nbformat": 4,
 "nbformat_minor": 2
}
