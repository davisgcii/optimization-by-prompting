{
 "cells": [
  {
   "cell_type": "code",
   "execution_count": 1,
   "metadata": {},
   "outputs": [],
   "source": [
    "import openai\n",
    "from dataclasses import dataclass"
   ]
  },
  {
   "cell_type": "code",
   "execution_count": 10,
   "metadata": {},
   "outputs": [],
   "source": [
    "# let's create some classes that make managing prompts easier\n",
    "@dataclass\n",
    "class Solution:\n",
    "    solution_name: str  # the name of the solution, e.g. \"trace\"\n",
    "    solution_text: str  # the text solution to a problem\n",
    "    value_name: str  # the name of the value used to measure the solution, e.g. \"length\" or \"score\"\n",
    "    value: int  # the value of the solution, e.g. 5 or 10\n",
    "\n",
    "\n",
    "class MathPrompt:\n",
    "    def __init__(\n",
    "        self,\n",
    "        problem: str,  # text description of the problem to be solved\n",
    "        instruction: str,  # instructions on what type of solution to provide and in what format\n",
    "        solution_description: str,  # a description of the solutions and how they are ordered (e.g., \"arranged in descending order based on their lengths, where lower values are better\")\n",
    "        solutions: list[\n",
    "            Solution\n",
    "        ] = [],  # a list of solutions to the problem sorted in order of ascending value\n",
    "    ):\n",
    "        self.problem = problem\n",
    "        self.solution_description = solution_description\n",
    "        self.solutions = solutions\n",
    "        self.instruction = instruction\n",
    "        self.prompt_string = \"\"\n",
    "\n",
    "    def update_prompt_string(self):\n",
    "        \"\"\"\n",
    "        Creates a string representation of the prompt that can be used to display the prompt to the user or provide it to a language model.\n",
    "        \"\"\"\n",
    "        solutions_string = \"\\n\\n\".join(\n",
    "            f\"{solution.solution_name}: {solution.solution_text}\\n{solution.value_name}: {solution.value}\"\n",
    "            for solution in self.solutions\n",
    "        )\n",
    "\n",
    "        self.prompt_string = f\"{self.problem}\\n\\n{self.solution_description}\\n\\n{solutions_string}\\n\\n{self.instruction}\"\n",
    "\n",
    "    def add_solution(self, solution: Solution):\n",
    "        \"\"\"\n",
    "        Adds a solution to the list of solutions, sorts the list by value in ascending order, and updates the prompt string.\n",
    "        \"\"\"\n",
    "        self.solutions.append(solution)\n",
    "\n",
    "        # sort the solutions by value in ascending order\n",
    "        self.solutions.sort(key=lambda solution: solution.value)\n",
    "\n",
    "        self.update_prompt_string()\n",
    "\n",
    "    def __repr__(self):\n",
    "        return self.prompt_string\n"
   ]
  },
  {
   "cell_type": "code",
   "execution_count": 11,
   "metadata": {},
   "outputs": [
    {
     "name": "stdout",
     "output_type": "stream",
     "text": [
      "You are given a list of points with coordinates below: (0): (-4, 5), (1): (17, 76), (2): (-9, 0), (3): (-31, -86), (4): (53, -35), (5): (26, 91), (6): (65, -33), (7): (26, 86), (8): (-13, -70), (9): (13, 79), (10): (-73, -86), (11): (-45, 93), (12): (74, 24), (13): (67, -42), (14): (87, 51), (15): (83, 94), (16): (-7, 52), (17): (-89, 47), (18): (0, -38), (19): (61, 58).\n",
      "\n",
      "Below are some previous traces and their lengths. The traces are arranged in descending order based on their lengths, where lower values are better.\n",
      "\n",
      "trace: <trace> 0,11,4,13,6,10,8,17,12,15,3,5,19,2,1,18,14,7,16,9 </trace>\n",
      "length: 1953\n",
      "\n",
      "trace: <trace> 0,18,4,11,9,7,14,17,12,15,10,5,19,3,13,16,1,6,8,2 </trace>\n",
      "length: 2017\n",
      "\n",
      "trace: <trace> 0,13,3,16,19,2,17,5,4,7,18,8,1,9,6,14,11,15,10,12 </trace>\n",
      "length: 2254\n",
      "\n",
      "Give me a new trace that is different from all traces above, and has a length lower than any of the above. The trace should traverse all points exactly once. The trace should start with <trace> and end with </trace>.\n"
     ]
    }
   ],
   "source": [
    "# ok, let's test out the class with an example from Figure 18 the paper\n",
    "problem = \"You are given a list of points with coordinates below: (0): (-4, 5), (1): (17, 76), (2): (-9, 0), (3): (-31, -86), (4): (53, -35), (5): (26, 91), (6): (65, -33), (7): (26, 86), (8): (-13, -70), (9): (13, 79), (10): (-73, -86), (11): (-45, 93), (12): (74, 24), (13): (67, -42), (14): (87, 51), (15): (83, 94), (16): (-7, 52), (17): (-89, 47), (18): (0, -38), (19): (61, 58).\"\n",
    "solution_description = \"Below are some previous traces and their lengths. The traces are arranged in descending order based on their lengths, where lower values are better.\"\n",
    "instruction = \"Give me a new trace that is different from all traces above, and has a length lower than any of the above. The trace should traverse all points exactly once. The trace should start with <trace> and end with </trace>.\"\n",
    "\n",
    "solutions = []\n",
    "solutions.append(Solution(\n",
    "    \"trace\",\n",
    "    \"<trace> 0,13,3,16,19,2,17,5,4,7,18,8,1,9,6,14,11,15,10,12 </trace>\",\n",
    "    \"length\",\n",
    "    2254,\n",
    "))\n",
    "solutions.append(Solution(\n",
    "    \"trace\",\n",
    "    \"<trace> 0,18,4,11,9,7,14,17,12,15,10,5,19,3,13,16,1,6,8,2 </trace>\",\n",
    "    \"length\",\n",
    "    2017,\n",
    "))\n",
    "solutions.append(Solution(\n",
    "    \"trace\",\n",
    "    \"<trace> 0,11,4,13,6,10,8,17,12,15,3,5,19,2,1,18,14,7,16,9 </trace>\",\n",
    "    \"length\",\n",
    "    1953,\n",
    "))\n",
    "\n",
    "test_problem = MathPrompt(problem, instruction, solution_description)\n",
    "\n",
    "for solution in solutions:\n",
    "    test_problem.add_solution(solution)\n",
    "\n",
    "print(test_problem)"
   ]
  },
  {
   "cell_type": "code",
   "execution_count": null,
   "metadata": {},
   "outputs": [],
   "source": []
  }
 ],
 "metadata": {
  "kernelspec": {
   "display_name": "venv",
   "language": "python",
   "name": "python3"
  },
  "language_info": {
   "codemirror_mode": {
    "name": "ipython",
    "version": 3
   },
   "file_extension": ".py",
   "mimetype": "text/x-python",
   "name": "python",
   "nbconvert_exporter": "python",
   "pygments_lexer": "ipython3",
   "version": "3.11.2"
  },
  "orig_nbformat": 4
 },
 "nbformat": 4,
 "nbformat_minor": 2
}
